{
 "cells": [
  {
   "cell_type": "markdown",
   "metadata": {
    "slideshow": {
     "slide_type": "slide"
    }
   },
   "source": [
    "# Weak learning models over synthetic datasets\n",
    "\n",
    "    Notebook version: 1.0 (Mar 24, 2021)\n",
    "\n",
    "    Author: Jesús Cid Sueiro (jcid@tsc.uc3m.es)\n",
    "            Daniel Bacaicoa Barber "
   ]
  },
  {
   "cell_type": "markdown",
   "metadata": {
    "slideshow": {
     "slide_type": "notes"
    }
   },
   "source": [
    "    Changes: v.1.0 - First version."
   ]
  },
  {
   "cell_type": "code",
   "execution_count": 1,
   "metadata": {
    "jupyter": {
     "outputs_hidden": false
    },
    "slideshow": {
     "slide_type": "slide"
    }
   },
   "outputs": [],
   "source": [
    "# To visualize plots in the notebook\n",
    "%matplotlib inline \n",
    "import matplotlib.pyplot as plt\n",
    "\n",
    "# Import some libraries that will be necessary for working with data\n",
    "import copy\n",
    "import numpy as np\n",
    "from collections import Counter\n",
    "from sklearn.datasets import make_blobs, make_classification, load_wine\n",
    "\n",
    "# Local imports\n",
    "import weaklabels.WLweakener as wlw\n",
    "import weaklabels.WLclassifier as wl_classifier\n",
    "\n",
    "import utils.data as dt\n",
    "\n",
    "import tensorflow as tf"
   ]
  },
  {
   "cell_type": "markdown",
   "metadata": {},
   "source": [
    "The following methods will be useful to compute predictions and make model evaluations."
   ]
  },
  {
   "cell_type": "code",
   "execution_count": 2,
   "metadata": {},
   "outputs": [],
   "source": [
    "def normalize_rows(W):\n",
    "    \"\"\"\n",
    "    Centers the row vectors (this helps to avoid saturation of exponentials)\n",
    "    If W is the input matrix, the normalized matrix Wn satisfies:\n",
    "        Wn·1 = 0\n",
    "        softmax(X·W) = softmax(X·Wn)\n",
    "    (for any X where 1 is a vector of ones)\n",
    "    \n",
    "    Parameters\n",
    "    ----------\n",
    "    W: numpy.ndarray (n_samples x n_classes)\n",
    "        Input weight matrix\n",
    "    \n",
    "    Returns\n",
    "    -------\n",
    "    numpy.ndarray (n_samples x n_classes)\n",
    "        Normalized weights\n",
    "    \"\"\"\n",
    "    return W - np.mean(W, axis=1, keepdims=True)\n",
    "    \n",
    "\n",
    "def log_predict(X, W):\n",
    "    \"\"\"\n",
    "    Compute the logarithmic predictions for inputs X given a softmax model\n",
    "    with parameters W\n",
    "    \n",
    "    Parameters\n",
    "    ----------\n",
    "    X: numpy array\n",
    "        Input data: a matrix with dimension (n_samples x n_features)\n",
    "    W: numpy arra\n",
    "        Model parameters: a matrix with dimension (n_features x n_classes)\n",
    "    \n",
    "    Returns\n",
    "    -------\n",
    "    log_pred: numpy.ndarray (n_samples x n_classes)\n",
    "        Matrix of log-probabilistic predictions    \n",
    "    \"\"\"\n",
    "\n",
    "    # Linear scores (n_samples x n_classes)\n",
    "    S = X @ W\n",
    "    # This is just to reduce the possibility of saturating exponentials\n",
    "    S = normalize_rows(S)\n",
    "    \n",
    "    # Sums of log-scores\n",
    "    z = np.log(np.sum(np.exp(S), axis=1, keepdims=True))\n",
    "    log_pred = S - z\n",
    "\n",
    "    return log_pred\n",
    "\n",
    "def predict_proba(X, W):\n",
    "    \"\"\"\n",
    "    Compute the probabilistic predictions for inputs X given a softmax model\n",
    "    with parameters W\n",
    "    \n",
    "    Parameters\n",
    "    ----------\n",
    "    X: numpy array\n",
    "        Input data: a matrix with dimension (n_samples x n_features)\n",
    "    W: numpy arra\n",
    "        Model parameters: a matrix with dimension (n_features x n_classes)\n",
    "    \n",
    "    Returns\n",
    "    -------\n",
    "    numpy.ndarray (n_samples x n_classes)\n",
    "        Matrix of probabilistic predictions    \n",
    "    \"\"\"\n",
    "    # Compute a prediction\n",
    "    return np.exp(log_predict(X, W))\n",
    "\n",
    "def KLdiv(P, Q):\n",
    "    \"\"\"\n",
    "    Computes the KL divergence between the probaility distributions in matrices P and Q\n",
    "    \n",
    "    Parameters\n",
    "    ----------\n",
    "    P: numpy.ndarray (n_samples x n_classes)\n",
    "        A matrix of discrete probability distributions\n",
    "    Q: numpy.ndarray (n_samples x n_classes)\n",
    "        A matrix of discrete probability distributions\n",
    "        \n",
    "    Returns\n",
    "    -------\n",
    "    KLdiv: numpy.ndarray (n_samples,)\n",
    "        KL divergence between co-located pairs of probability distributions in P and Q.\n",
    "        (KLdiv[i] contains the divergence between distributions P[i] and Q[i])\n",
    "    \"\"\"\n",
    "    KLdiv = np.sum(P * (np.log(P) - np.log(Q)), axis=1)    \n",
    "    return KLdiv\n",
    "\n",
    "\n",
    "def KLdiv_from_weights(W, V, X):\n",
    "    \"\"\"\n",
    "    Computes the KL divergence between the probabilistic predictions based on two different softmax\n",
    "    models.    \n",
    "    It is equivalent to \n",
    "        (1) Compute probabilistic predicions P and Q for softmax models W and V, resp., and\n",
    "        (2) compute the KL div between P and Q. \n",
    "    The computation of P and Q is avoided for higher precision\n",
    "    \"\"\"\n",
    "    KLdiv = np.sum(predict_proba(X, W) * (log_predict(X, W) - log_predict(X, V)), axis=1)    \n",
    "    return KLdiv\n",
    "\n",
    "def sparsemax(Z):\n",
    "    \"\"\"\n",
    "    Computes the sparsemax projection of the probability values.\n",
    "    The code is an adaptation of a version taken from\n",
    "    https://towardsdatascience.com/what-is-sparsemax-f84c136624e4\n",
    "    \n",
    "    Parameters\n",
    "    ----------\n",
    "    Z : numpy.ndarray (n_samples x n_classes)\n",
    "        Input data. Each row is a vector to be projected.\n",
    "\n",
    "    Parameters\n",
    "    ----------\n",
    "    Y : numpy.ndarray (n_samples x n_classes)\n",
    "        Proyections.    \n",
    "    \"\"\"\n",
    "    \n",
    "    k = np.arange(Z.shape[1])\n",
    "    Z_sorted = -np.sort(-Z, axis=1)\n",
    "    K_array = 1 + k * Z_sorted\n",
    "    Z_cumsum = np.cumsum(Z_sorted, axis=1) - Z_sorted\n",
    "    K_selected = K_array > Z_cumsum\n",
    "\n",
    "    for i in range(Z.shape[0]):\n",
    "        k_max = np.where(K_selected[i])[0].max() + 1\n",
    "        if k_max < Z.shape[1]:\n",
    "            threshold = (Z_cumsum[i, k_max] - 1) / k_max\n",
    "        else:\n",
    "            threshold = (np.sum(Z[i]) - 1) / k_max\n",
    "        yi = np.maximum(Z[[i], :] - threshold, 0)\n",
    "        if i == 0:\n",
    "            Y = copy.copy(yi)\n",
    "        else:\n",
    "            Y = np.vstack((Y, yi))\n",
    "\n",
    "    return Y"
   ]
  },
  {
   "cell_type": "markdown",
   "metadata": {
    "slideshow": {
     "slide_type": "slide"
    }
   },
   "source": [
    "\n",
    "## 1. Introduction.\n",
    "\n",
    "In this notebook we analyze the behavior of weak label learning algorithms over synthetic datasets.\n",
    "\n",
    "The main goal is to compare the behavior of a \"supervised\" estimate, based on a set of clean labels $\\{{\\bf y}_k, k=0,\\ldots, K-1\\}$, and estimates based on weak labels, $\\{{\\bf b}_k, k=0,\\ldots, K-1\\}$, generated from some related distribution ${\\bf p} = {\\bf M}\\boldsymbol{\\eta}$, where ${\\bf M}$ is a transition matrix.\n",
    "\n",
    "First we define some configurable parameters:"
   ]
  },
  {
   "cell_type": "code",
   "execution_count": 3,
   "metadata": {},
   "outputs": [
    {
     "name": "stdout",
     "output_type": "stream",
     "text": [
      "----------------\n",
      "Dataset description:\n",
      "    Dataset name: balance-scale\n",
      "    Sample size: 625\n",
      "    Number of features: 4\n",
      "    Number of classes: 3\n"
     ]
    },
    {
     "data": {
      "text/plain": [
       "312"
      ]
     },
     "execution_count": 3,
     "metadata": {},
     "output_type": "execute_result"
    }
   ],
   "source": [
    "dataset = 'balance-scale'\n",
    "X, _, C, n_samples, _ = dt.load_dataset(dataset,seed=1)\n",
    "n_train = int(0.5*n_samples)\n",
    "int(0.5*n_samples)"
   ]
  },
  {
   "cell_type": "code",
   "execution_count": 4,
   "metadata": {
    "jupyter": {
     "outputs_hidden": false
    }
   },
   "outputs": [
    {
     "name": "stdout",
     "output_type": "stream",
     "text": [
      "----------------\n",
      "Dataset description:\n",
      "    Dataset name: balance-scale\n",
      "    Sample size: 625\n",
      "    Number of features: 4\n",
      "    Number of classes: 3\n"
     ]
    }
   ],
   "source": [
    "# CONFIGURABLE PARAMETERS FOR THE WHOLE NOTEBOOK\n",
    "\n",
    "# ##############\n",
    "# TRUE POSTERIOR\n",
    "\n",
    "# Parameters for gaussian mixtures (only for blobs and sfm_unif)\n",
    "sigma = 0.1    # Noise variance\n",
    "alpha_priors = 10\n",
    "\n",
    "# #######\n",
    "# DATASET\n",
    "\n",
    "# Number of classes\n",
    "#C = 3\n",
    "# Sample sizes\n",
    "#n_train =  500\n",
    "#n_test = 10000\n",
    "# Data dimension\n",
    "D = 2   # int(n_samples/100)\n",
    "\n",
    "# Dataset (blobs, or sfm_unif)\n",
    "#dataset = 'sfm_unif'\n",
    "#dataset = 'abalone'\n",
    "X, _, C, n_samples, _ = dt.load_dataset(dataset,seed=1)\n",
    "#dataset = 'blobs'\n",
    "# ################\n",
    "# WEAK LABEL MODEL\n",
    "\n",
    "# Weak Label model. Used to generate the mixing matrix.\n",
    "# Available options are: quasi_IPL, noisy, random_noise ...\n",
    "wl_model = 'random_weak'# 'quasi-IPL'#'random_weak'   # 'quasi-IPL'    # 'random_noise'   # 'noisy', 'quasi_IPL'\n",
    "alpha_M = 0.998\n",
    "beta_M = [5]*(2**C)\n",
    "#beta_M = [3,0.1,0.1,3,0.1,3,3,3]\n",
    "\n",
    "# ###########################\n",
    "# DEFAULT LEARNING ALGORITHM\n",
    "\n",
    "# Virtual label model\n",
    "vlm0 = 'M-opt-conv'\n",
    "# Weight regularization\n",
    "alpha = 0\n",
    "# Optimization algorithm\n",
    "optim = 'BFGS'      #   {‘newton-cg’, ‘lbfgs’, ‘liblinear’, ‘sag’, ‘saga’}   # newton-cg’,\n",
    "# Loss and parameters\n",
    "loss0 = 'LBL'\n",
    "# k = 0.1\n",
    "k = 0.001 #for 0.0001 was for car 0.001\n",
    "beta = 5\n",
    "# Parameters for gradient descent (I guess they are used for optim='GD' only)\n",
    "n_it = 500\n",
    "rho = 0.01\n",
    "\n",
    "# ###################\n",
    "# LEARNING ALGORITHMS\n",
    "\n",
    "# Algorithm specification: each dictionary entry specifies an algorithm to be tested.\n",
    "alg_spec0 = {\n",
    "    'M-pinv':     {'vl': 'M-pinv',     'loss': 'LBL'},\n",
    "    'M-conv':     {'vl': 'M-conv',     'loss': 'LBL'},\n",
    "    'M-opt':      {'vl': 'M-opt',      'loss': 'LBL'},\n",
    "    'M-opt-conv': {'vl': 'M-opt-conv', 'loss': 'LBL'},\n",
    "    'S-LBL':      {'vl': 'Supervised', 'loss': 'LBL'},\n",
    "    'S_CE':       {'vl': 'Supervised', 'loss': 'CE'}}\n",
    "vlm0 = 'M-opt-conv'\n",
    "\n",
    "alg_spec = alg_spec0\n",
    "\n",
    "# #####\n",
    "# SEEDS\n",
    "\n",
    "seed_p = 0\n",
    "seed_w = 0\n",
    "seed_x = 0\n",
    "seed_M = 0"
   ]
  },
  {
   "cell_type": "code",
   "execution_count": 5,
   "metadata": {},
   "outputs": [],
   "source": [
    "# Default parameters \n",
    "params_default = {'loss': 'LBL', 'n_it': n_it, 'rho': rho, 'k': k, 'beta': beta, 'alpha': alpha}\n",
    "\n",
    "# Buid dictionary of learning algorithms\n",
    "algorithms = {}\n",
    "for name, alg in alg_spec.items():\n",
    "    algorithms[name] = {}\n",
    "    algorithms[name]['vl'] = alg['vl']\n",
    "    algorithms[name]['params'] = copy.copy(params_default)\n",
    "    for k in alg:\n",
    "        if k != 'vl':\n",
    "            algorithms[name]['params'][k] = alg[k]"
   ]
  },
  {
   "cell_type": "markdown",
   "metadata": {},
   "source": [
    "## 2. Model"
   ]
  },
  {
   "cell_type": "markdown",
   "metadata": {},
   "source": [
    "### 2.1. Model generation\n",
    "\n",
    "First, we will generate a logistic regresion model. \n",
    "\n",
    "Instead of generating model weights directly at random, we compute the model weight from a randomly generated gaussian mixture model."
   ]
  },
  {
   "cell_type": "code",
   "execution_count": 6,
   "metadata": {},
   "outputs": [],
   "source": [
    "# ##############\n",
    "# Generate model\n",
    "\n",
    "# Set the random number generator\n",
    "np.random.seed(seed_p)\n",
    "\n",
    "# Gaussian-like parameters (they are used to compute reasonable weights,\n",
    "# even though the input distribution might not be a Gaussian mixture)\n",
    "centers = np.random.rand(C, D)\n",
    "# Priors\n",
    "priors = np.random.dirichlet(alpha_priors * np.ones(C))\n",
    "\n",
    "# True weighs of the logistic regression model\n",
    "W = centers.T / sigma**2\n",
    "w0 = - np.sum(centers**2, axis=1, keepdims=True).T / (2 * sigma**2) + np.log(priors)\n",
    "\n",
    "# Weight matrix of the softmax model\n",
    "true_W = np.vstack((w0, W))\n",
    "# Normalize the weight matrix of the softmax model (it does not change the posteriors)\n",
    "true_W = normalize_rows(true_W)"
   ]
  },
  {
   "cell_type": "code",
   "execution_count": 7,
   "metadata": {},
   "outputs": [
    {
     "data": {
      "text/plain": [
       "array([[0.92559664, 0.07103606, 0.0871293 ],\n",
       "       [0.0202184 , 0.83261985, 0.77815675],\n",
       "       [0.87001215, 0.97861834, 0.79915856],\n",
       "       [0.46147936, 0.78052918, 0.11827443],\n",
       "       [0.63992102, 0.14335329, 0.94466892]])"
      ]
     },
     "execution_count": 7,
     "metadata": {},
     "output_type": "execute_result"
    }
   ],
   "source": [
    "true_W = np.random.rand(X.shape[1]+1,C)\n",
    "true_W"
   ]
  },
  {
   "cell_type": "markdown",
   "metadata": {},
   "source": [
    "### 2.2. Dataset generation\n",
    "\n",
    "Given the posterior probability model, we generate the dataset, in two possible ways:\n",
    "\n",
    "  * Dataset **blobs**: Samples are generated according to the gaussian mixture model used to define the posterior probability model. \n",
    "  * Dataset **sfm_uni**: Samples are generated according to a uniform distribution."
   ]
  },
  {
   "cell_type": "code",
   "execution_count": 8,
   "metadata": {},
   "outputs": [],
   "source": [
    "# #################\n",
    "# Generate dataset\n",
    "\n",
    "# Set the random number generator\n",
    "np.random.seed(seed_x)\n",
    "\n",
    "# This is to add the bias term to features\n",
    "#n_samples = n_train + n_test\n",
    "col_ones = np.ones((n_samples, 1))\n",
    "\n",
    "# Generate the selected dataset\n",
    "if dataset == 'blobs':\n",
    "    samples_per_class = np.random.multinomial(n_samples, priors)\n",
    "\n",
    "    # Generate data\n",
    "    X, y = make_blobs(n_samples=samples_per_class, cluster_std=sigma, centers=centers,\n",
    "                      n_features=D)\n",
    "    # Add column with one's\n",
    "    Xe = np.hstack((col_ones, X))\n",
    "\n",
    "    # True posteriors\n",
    "    posteriors = predict_proba(Xe, true_W)\n",
    "        \n",
    "elif dataset == 'sfm_unif': \n",
    "\n",
    "    X = np.random.rand(n_samples, D)\n",
    "    y = np.zeros(n_samples, dtype=int)\n",
    "\n",
    "    # Add column with one's\n",
    "    Xe = np.hstack((col_ones, X))\n",
    "\n",
    "    # True posteriors\n",
    "    posteriors = predict_proba(Xe, true_W)\n",
    "    \n",
    "    # Generate labels from posteriors\n",
    "    for i, x in enumerate(Xe):\n",
    "        y[i] = np.random.choice(C, size=None, p=posteriors[i])        \n",
    "\n",
    "    print(f'true_W = {true_W}')\n",
    "else:\n",
    "    pass"
   ]
  },
  {
   "cell_type": "code",
   "execution_count": 9,
   "metadata": {},
   "outputs": [
    {
     "name": "stdout",
     "output_type": "stream",
     "text": [
      "----------------\n",
      "Dataset description:\n",
      "    Dataset name: balance-scale\n",
      "    Sample size: 625\n",
      "    Number of features: 4\n",
      "    Number of classes: 3\n",
      "\n",
      "Posterior distribution [0.0784 0.4608 0.4608]\n"
     ]
    }
   ],
   "source": [
    "#dataset = 'abalone'\n",
    "X, y, n_classes, n_samples, n_features = dt.load_dataset(dataset,seed=1)\n",
    "Xe = np.hstack((col_ones, X))\n",
    "y_bin = np.eye(n_classes)[y]\n",
    "eta = np.mean(y_bin,axis=0)\n",
    "posteriors = np.ones((n_samples,1))@eta.reshape(1,-1)\n",
    "print('\\nPosterior distribution',eta)"
   ]
  },
  {
   "cell_type": "markdown",
   "metadata": {},
   "source": [
    "Now we show the scatter plot of the first 2 dimensions."
   ]
  },
  {
   "cell_type": "code",
   "execution_count": 10,
   "metadata": {},
   "outputs": [
    {
     "name": "stdout",
     "output_type": "stream",
     "text": [
      "[0.0784 0.4608 0.4608]\n",
      "Class proportions: [0.0784 0.4608 0.4608]\n"
     ]
    },
    {
     "data": {
      "image/png": "[encoded data removed]",
      "text/plain": [
       "<Figure size 432x288 with 1 Axes>"
      ]
     },
     "metadata": {
      "needs_background": "light"
     },
     "output_type": "display_data"
    }
   ],
   "source": [
    "# Compute class proportions\n",
    "bin_y = np.eye(C)[y]    # Binarize classes\n",
    "# Compute class proportions\n",
    "# eta = np.mean(bin_y, axis=0)\n",
    "#eta = np.mean(posteriors, axis=0)\n",
    "print(eta)\n",
    "# Compare priors and proportions:\n",
    "print(f'Class proportions: {eta}')\n",
    "\n",
    "plt.scatter(X[:,0], X[:,1], c=y, cmap='viridis', s=10)\n",
    "plt.axis('equal')\n",
    "plt.show()"
   ]
  },
  {
   "cell_type": "markdown",
   "metadata": {},
   "source": [
    "Now we can make the train/test partition."
   ]
  },
  {
   "cell_type": "markdown",
   "metadata": {},
   "source": [
    "### 2.3. Weak label model\n",
    "\n",
    "#### 2.3.1. Mixing matrix\n",
    "\n",
    "Based on the selected weak label model, we generate and visualize the corresponding mixing matrix."
   ]
  },
  {
   "cell_type": "code",
   "execution_count": 11,
   "metadata": {
    "jupyter": {
     "outputs_hidden": false
    }
   },
   "outputs": [
    {
     "name": "stdout",
     "output_type": "stream",
     "text": [
      "Weak classes: [0 1 2 3 4 5 6 7]\n"
     ]
    },
    {
     "data": {
      "image/png": "[encoded data removed]",
      "text/plain": [
       "<Figure size 360x360 with 2 Axes>"
      ]
     },
     "metadata": {
      "needs_background": "light"
     },
     "output_type": "display_data"
    }
   ],
   "source": [
    "# Set the random number generator\n",
    "np.random.seed(seed_M)\n",
    "\n",
    "# Create a weak label model object\n",
    "WLM = wlw.WLmodel(C, model_class=wl_model)\n",
    "\n",
    "# Generate a mixing matrix\n",
    "M = WLM.generateM(alpha=alpha_M, beta=beta_M)\n",
    "n_weak = M.shape[0]      # Number of weak categories\n",
    "# Remove weak classes with zero probability\n",
    "WLM.remove_zero_rows()\n",
    "M = WLM.M                # This is just to abbreviate\n",
    "\n",
    "print(f\"Weak classes: {WLM.weak_classes}\")\n",
    "\n",
    "# Show mixing matrix\n",
    "if n_weak < 5:\n",
    "    print(\"Mixing matrix:\")\n",
    "    print(M)\n",
    "    print(f\"Corresponding to weak label indices {dec_labels}\")\n",
    "\n",
    "plt.figure(figsize=(5, 5))\n",
    "plt.imshow(M, interpolation='nearest', cmap=\"gray\", clim=(0.0, np.max(M))) \n",
    "plt.colorbar()\n",
    "plt.title('Mixing Matrix')\n",
    "plt.xlabel('True label')\n",
    "plt.ylabel('Weak label')\n",
    "plt.xticks([], [])\n",
    "plt.yticks([], [])\n",
    "plt.show()"
   ]
  },
  {
   "cell_type": "markdown",
   "metadata": {},
   "source": [
    "#### 2.2.2. Weak label priors\n",
    "\n",
    "In the following we analyze the sparsity of the weak label priors by showing the values of the prior weak label probabilities in increasing order."
   ]
  },
  {
   "cell_type": "code",
   "execution_count": 12,
   "metadata": {},
   "outputs": [
    {
     "name": "stdout",
     "output_type": "stream",
     "text": [
      "[[0.19360634 0.1263064  0.20666042]\n",
      " [0.11254227 0.12037222 0.20379251]\n",
      " [0.20098991 0.19493151 0.07026051]\n",
      " [0.05758222 0.09401619 0.0365939 ]\n",
      " [0.09160581 0.02305008 0.18413009]\n",
      " [0.11305537 0.13813555 0.18213789]\n",
      " [0.13119461 0.25488158 0.06437417]\n",
      " [0.09942347 0.04830646 0.05205051]]\n",
      "[0.0784 0.4608 0.4608]\n"
     ]
    }
   ],
   "source": [
    "print(M)\n",
    "print(eta)"
   ]
  },
  {
   "cell_type": "code",
   "execution_count": 13,
   "metadata": {},
   "outputs": [
    {
     "data": {
      "image/png": "[encoded data removed]",
      "text/plain": [
       "<Figure size 432x288 with 1 Axes>"
      ]
     },
     "metadata": {
      "needs_background": "light"
     },
     "output_type": "display_data"
    },
    {
     "name": "stdout",
     "output_type": "stream",
     "text": [
      "The entropy is 2.0148774290784655 (maximum is 2.0794415416798357)\n",
      "The minimum weak class probability is 0.05403929133629459\n"
     ]
    }
   ],
   "source": [
    "# Weak label priors\n",
    "p = M @ eta\n",
    "h = - p @ np.log(p).T\n",
    "\n",
    "# plt.plot(np.sort(p),'.')\n",
    "plt.stem(range(len(p)), np.sort(p),'.', use_line_collection=True)\n",
    "plt.ylim((0, plt.ylim()[1]))\n",
    "plt.xlabel('Sorted weak classes')\n",
    "plt.ylabel('Prior probability')\n",
    "plt.show()\n",
    "\n",
    "print(f'The entropy is {h} (maximum is {np.log(len(p))})')\n",
    "print(f'The minimum weak class probability is {min(p)}')"
   ]
  },
  {
   "cell_type": "markdown",
   "metadata": {
    "jupyter": {
     "outputs_hidden": false
    }
   },
   "source": [
    "#### 2.3.3. Generate weak label indices"
   ]
  },
  {
   "cell_type": "code",
   "execution_count": 14,
   "metadata": {},
   "outputs": [],
   "source": [
    "np.random.seed(seed_w)\n",
    "\n",
    "# Binarize labels\n",
    "I = np.eye(WLM.c)\n",
    "y_bin = I[y]\n",
    "\n",
    "# Generate weak labels\n",
    "z = WLM.generateWeak(y)\n",
    "\n",
    "#np.random.seed(seed_w + 1)\n",
    "# Generate weak labels\n",
    "# zB = WLM.generateWeak(y)\n",
    "\n",
    "# ztst = zM[n_train:]\n",
    "# zM = zM[:n_train]\n",
    "# zB = zB[:n_train]\n",
    "\n",
    "#m = n_train // 8\n",
    "#z = np.hstack((zB, ztst))\n",
    "# z[m:2*m] = zM[m:2*m]\n",
    "#z = np.hstack((zM[:m], zB[m:], ztst))\n",
    "#print(z.shape)\n"
   ]
  },
  {
   "cell_type": "code",
   "execution_count": 15,
   "metadata": {},
   "outputs": [
    {
     "data": {
      "image/png": "[encoded data removed]",
      "text/plain": [
       "<Figure size 432x288 with 1 Axes>"
      ]
     },
     "metadata": {
      "needs_background": "light"
     },
     "output_type": "display_data"
    }
   ],
   "source": [
    "plt.scatter(X[:,1], X[:,3], c=z, s=20)\n",
    "plt.axis('equal')\n",
    "plt.show()"
   ]
  },
  {
   "cell_type": "markdown",
   "metadata": {},
   "source": [
    "## 3. Learning\n",
    "\n",
    "### 3.1. Train / test partition"
   ]
  },
  {
   "cell_type": "code",
   "execution_count": 16,
   "metadata": {},
   "outputs": [
    {
     "data": {
      "text/plain": [
       "312"
      ]
     },
     "execution_count": 16,
     "metadata": {},
     "output_type": "execute_result"
    }
   ],
   "source": [
    "n_train"
   ]
  },
  {
   "cell_type": "code",
   "execution_count": 17,
   "metadata": {},
   "outputs": [],
   "source": [
    "# Inputs\n",
    "X_train = Xe[:n_train, :]\n",
    "X_test = Xe[n_train:, :]\n",
    "# Clean labels\n",
    "y_train = y[:n_train]\n",
    "y_test = y[n_train:]\n",
    "# Weak labels\n",
    "z_train = z[:n_train]\n",
    "z_test = z[n_train:]\n",
    "# True posteriors\n",
    "eta_train = posteriors[:n_train]\n",
    "eta_test = posteriors[n_train:]\n"
   ]
  },
  {
   "cell_type": "markdown",
   "metadata": {},
   "source": [
    "### 3.2. Model fitting\n",
    "\n",
    "In this section we will test the behavior of a given weak loss for different virtual label matrices.\n",
    "\n",
    "We train the model with the given dataset, and different types of virtual label models"
   ]
  },
  {
   "cell_type": "code",
   "execution_count": 18,
   "metadata": {},
   "outputs": [
    {
     "name": "stdout",
     "output_type": "stream",
     "text": [
      "[0.16860985 0.15819842 0.13795809 0.06469958 0.10265051 0.15644554\n",
      " 0.15739871 0.05403929]\n"
     ]
    }
   ],
   "source": [
    "DKL, ERR, MSE, DW = {}, {}, {}, {}\n",
    "\n",
    "# Train all models\n",
    "v_train, v_test = {}, {}\n",
    "clf = {}\n",
    "print(p)\n",
    "\n",
    "n_rep = 100\n",
    "\n",
    "NDKL, NERR, NMSE, NDW = {}, {}, {}, {}\n",
    "for rep in range(n_rep):\n",
    "    z = WLM.generateWeak(y)\n",
    "    z_train = z[:n_train]\n",
    "    z_test = z[n_train:]\n",
    "    \n",
    "    DKL, ERR, MSE, DW = {}, {}, {}, {}\n",
    "    \n",
    "    for name, model in algorithms.items():\n",
    "        #print(f\"{name}: Virtual labels: {model['vl']}, Loss: {model['params']['loss']}\")\n",
    "\n",
    "        vlm = model['vl']\n",
    "\n",
    "        clf[name] = wl_classifier.WeakLogisticRegression(\n",
    "            n_classes = WLM.c, optimizer=optim, params=model['params'], canonical_link=True)\n",
    "\n",
    "        # Compute all virtual labels for training and testing\n",
    "        if vlm == 'Supervised':\n",
    "            v_train[name] = y_train\n",
    "            v_test[name] = y_test\n",
    "        else:\n",
    "            v_train[name] = WLM.virtual_labels(z_train, vlm)\n",
    "            v_test[name] = WLM.virtual_labels(z_test, vlm)  # <- Warning: maybe I should compute this from Y_train\n",
    "\n",
    "        # Fit logistic regressioin model\n",
    "        clf[name].fit(X_train, v_train[name])\n",
    "\n",
    "\n",
    "        # Compute performance metrics\n",
    "        # Errors\n",
    "        ERR[name] = np.mean(clf[name].predict(X_test)!=y_test)\n",
    "        # KL divergence\n",
    "        cce = tf.keras.losses.SparseCategoricalCrossentropy(from_logits=False)\n",
    "        DKL[name] = cce(y_test, clf[name].predict_proba(X_test)).numpy()\n",
    "        #DKL[name] = np.mean(KLdiv_from_weights(true_W, clf[name].W, X_test))\n",
    "        # MSE\n",
    "        f = clf[name].predict_proba(X_test)\n",
    "        # square_errors = np.sum((eta_test - sparsemax(f))**2, axis=1)\n",
    "        square_errors = np.sum((eta_test - f)**2, axis=1)\n",
    "        MSE[name] = np.mean(square_errors)\n",
    "\n",
    "        DW[name] = np.mean(np.abs(normalize_rows(true_W) -normalize_rows(clf[name].W)))\n",
    "\n",
    "    NDKL[rep] = DKL\n",
    "    NERR[rep] = ERR\n",
    "    NMSE[rep] = MSE\n",
    "    NDW[rep] = DW \n",
    "    "
   ]
  },
  {
   "cell_type": "code",
   "execution_count": 19,
   "metadata": {},
   "outputs": [
    {
     "data": {
      "image/png": "[encoded data removed]",
      "text/plain": [
       "<Figure size 432x288 with 1 Axes>"
      ]
     },
     "metadata": {
      "needs_background": "light"
     },
     "output_type": "display_data"
    },
    {
     "data": {
      "image/png": "[encoded data removed]",
      "text/plain": [
       "<Figure size 432x288 with 1 Axes>"
      ]
     },
     "metadata": {
      "needs_background": "light"
     },
     "output_type": "display_data"
    },
    {
     "name": "stdout",
     "output_type": "stream",
     "text": [
      "[0.26111821 0.26070288 0.24632588 0.24632588 0.12779553 0.09265176]\n",
      "[8.62049924e-02 8.73625216e-02 8.21931167e-02 8.21931167e-02\n",
      " 0.00000000e+00 1.38777878e-17]\n"
     ]
    }
   ],
   "source": [
    "Error_dist = [[NERR[i][alg] for i in range(n_rep)] for alg in alg_spec.keys()]\n",
    "plt.boxplot(Error_dist,labels=alg_spec.keys())\n",
    "plt.xticks(rotation=90)\n",
    "\n",
    "\n",
    "plt.show()\n",
    "Err_media = np.mean(Error_dist,axis=1)\n",
    "Err_desvest = np.std(Error_dist,axis=1)\n",
    "plt.bar(alg_spec.keys(), Err_media, yerr=Err_desvest, align='center', alpha=0.5, ecolor='black', capsize=10)\n",
    "plt.show()\n",
    "print(Err_media)\n",
    "print(Err_desvest)"
   ]
  },
  {
   "cell_type": "code",
   "execution_count": 20,
   "metadata": {},
   "outputs": [
    {
     "data": {
      "image/png": "[encoded data removed]",
      "text/plain": [
       "<Figure size 432x288 with 1 Axes>"
      ]
     },
     "metadata": {
      "needs_background": "light"
     },
     "output_type": "display_data"
    },
    {
     "name": "stdout",
     "output_type": "stream",
     "text": [
      "[0.63573657 0.63520273 0.57006047 0.57006126 0.32401578 0.42399809]\n",
      "[2.42044094e-01 2.40149216e-01 1.79909656e-01 1.79909246e-01\n",
      " 3.04714071e-10 1.82864407e-10]\n"
     ]
    },
    {
     "data": {
      "image/png": "[encoded data removed]",
      "text/plain": [
       "<Figure size 432x288 with 1 Axes>"
      ]
     },
     "metadata": {
      "needs_background": "light"
     },
     "output_type": "display_data"
    }
   ],
   "source": [
    "MSE_dist = [[NMSE[i][alg] for i in range(n_rep)] for alg in alg_spec.keys()]\n",
    "plt.boxplot(MSE_dist,labels=alg_spec.keys())\n",
    "plt.xticks(rotation=90)\n",
    "plt.show()\n",
    "MSE_media = np.mean(MSE_dist,axis=1)\n",
    "MSE_desvest = np.std(MSE_dist,axis=1)\n",
    "plt.bar(alg_spec.keys(), MSE_media, yerr=MSE_desvest, align='center', alpha=0.5, ecolor='black', capsize=10)\n",
    "plt.xticks(rotation=90)\n",
    "print(MSE_media)\n",
    "print(MSE_desvest)"
   ]
  },
  {
   "cell_type": "code",
   "execution_count": 21,
   "metadata": {},
   "outputs": [],
   "source": [
    "datase = 'Blanace-Scale'\n",
    "optimized_metri = 'CE'\n",
    "mode = 'M-pinv-pconv'\n",
    "metri = 'Acc'\n",
    "title = datase + ' \\n ' + optimized_metri + ' optim. on ' + mode + '\\n (' + metri +')'"
   ]
  },
  {
   "cell_type": "code",
   "execution_count": 22,
   "metadata": {},
   "outputs": [
    {
     "data": {
      "image/png": "[encoded data removed]",
      "text/plain": [
       "<Figure size 288x360 with 1 Axes>"
      ]
     },
     "metadata": {
      "needs_background": "light"
     },
     "output_type": "display_data"
    }
   ],
   "source": [
    "alg_names = list(algorithms.keys())\n",
    "plt.figure(figsize=[4,5])\n",
    "plt.bar(alg_names, MSE_media, align='center', alpha=0.5, ecolor='black', capsize=16)\n",
    "plt.title(title,fontsize=12)\n",
    "plt.xticks(rotation=45,fontsize=14,horizontalalignment=\"right\")\n",
    "plt.ylabel('mse',fontsize=16)\n",
    "plt.tight_layout()\n",
    "#plt.savefig('results/bal-scale_mse.jpeg')"
   ]
  },
  {
   "cell_type": "code",
   "execution_count": 23,
   "metadata": {},
   "outputs": [
    {
     "data": {
      "image/png": "[encoded data removed]",
      "text/plain": [
       "<Figure size 288x360 with 1 Axes>"
      ]
     },
     "metadata": {
      "needs_background": "light"
     },
     "output_type": "display_data"
    }
   ],
   "source": [
    "plt.figure(figsize=[4,5])\n",
    "plt.boxplot(MSE_dist,labels=alg_spec.keys())\n",
    "plt.title(title,fontsize=12)\n",
    "plt.xticks(rotation=45,fontsize=14,horizontalalignment=\"right\")\n",
    "plt.ylabel('mse',fontsize=16)\n",
    "plt.tight_layout()"
   ]
  },
  {
   "cell_type": "code",
   "execution_count": 24,
   "metadata": {},
   "outputs": [
    {
     "data": {
      "image/png": "[encoded data removed]",
      "text/plain": [
       "<Figure size 288x360 with 1 Axes>"
      ]
     },
     "metadata": {
      "needs_background": "light"
     },
     "output_type": "display_data"
    }
   ],
   "source": [
    "alg_names = list(algorithms.keys())\n",
    "plt.figure(figsize=[4, 5])\n",
    "plt.bar(alg_names, Err_media, align='center', alpha=0.5, ecolor='black', capsize=16)\n",
    "plt.title(r'Balance-Scale',fontsize=16)\n",
    "plt.xticks(rotation=45,fontsize=14,horizontalalignment=\"right\")\n",
    "plt.ylabel('error',fontsize=16)\n",
    "plt.tight_layout()\n",
    "plt.show()\n",
    "#plt.savefig('results/bal-scale_err.jpeg')"
   ]
  },
  {
   "cell_type": "code",
   "execution_count": 25,
   "metadata": {},
   "outputs": [
    {
     "data": {
      "image/png": "[encoded data removed]",
      "text/plain": [
       "<Figure size 288x360 with 1 Axes>"
      ]
     },
     "metadata": {
      "needs_background": "light"
     },
     "output_type": "display_data"
    }
   ],
   "source": [
    "alg_names = list(algorithms.keys())\n",
    "plt.figure(figsize=[4,5])\n",
    "plt.bar(alg_names, MSE_media, align='center', alpha=0.5, ecolor='black', capsize=16)\n",
    "plt.title(r'Balance-Scale',fontsize=16)\n",
    "plt.xticks(rotation=45,fontsize=14,horizontalalignment=\"right\")\n",
    "plt.ylabel('mse',fontsize=16)\n",
    "plt.tight_layout()\n",
    "plt.show()\n",
    "#plt.savefig('results/bal-scale_mse.jpeg')"
   ]
  }
 ],
 "metadata": {
  "anaconda-cloud": {},
  "kernelspec": {
   "display_name": "Python 3",
   "language": "python",
   "name": "python3"
  },
  "language_info": {
   "codemirror_mode": {
    "name": "ipython",
    "version": 3
   },
   "file_extension": ".py",
   "mimetype": "text/x-python",
   "name": "python",
   "nbconvert_exporter": "python",
   "pygments_lexer": "ipython3",
   "version": "3.8.8"
  }
 },
 "nbformat": 4,
 "nbformat_minor": 4
}
